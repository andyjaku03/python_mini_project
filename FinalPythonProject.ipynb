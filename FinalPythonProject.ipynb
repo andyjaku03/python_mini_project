{
  "nbformat": 4,
  "nbformat_minor": 0,
  "metadata": {
    "colab": {
      "name": "FinalPythonProject.ipynb",
      "provenance": []
    },
    "kernelspec": {
      "name": "python3",
      "display_name": "Python 3"
    },
    "language_info": {
      "name": "python"
    }
  },
  "cells": [
    {
      "cell_type": "markdown",
      "source": [
        "Final Python Project: Cryptocurrency Prices\n"
      ],
      "metadata": {
        "id": "kmDBrbcgKhyL"
      }
    },
    {
      "cell_type": "markdown",
      "source": [
        "Import the tool, create the data file, and print out the total price of bitcoin."
      ],
      "metadata": {
        "id": "WzTjxQ17tnNb"
      }
    },
    {
      "cell_type": "code",
      "source": [
        "import pandas as pd\n",
        "import matplotlib.pyplot as plt\n",
        "import csv\n",
        "\n",
        "\n",
        "btc_data = pd.read_csv(\"bitcoin_data.csv\")\n",
        "btc_data.plot(\"Date\", \"Value\")\n",
        "\n"
      ],
      "metadata": {
        "colab": {
          "base_uri": "https://localhost:8080/",
          "height": 298
        },
        "id": "yJr83WifLjvF",
        "outputId": "2160e354-1722-4dfe-960c-d71bdc0fe615"
      },
      "execution_count": 82,
      "outputs": [
        {
          "output_type": "execute_result",
          "data": {
            "text/plain": [
              "<matplotlib.axes._subplots.AxesSubplot at 0x7f8c839e8690>"
            ]
          },
          "metadata": {},
          "execution_count": 82
        },
        {
          "output_type": "display_data",
          "data": {
            "image/png": "[encoded data removed]",
            "text/plain": [
              "<Figure size 432x288 with 1 Axes>"
            ]
          },
          "metadata": {
            "needs_background": "light"
          }
        }
      ]
    },
    {
      "cell_type": "markdown",
      "source": [
        "A way to visualize the price of bitcoin in the past X days"
      ],
      "metadata": {
        "id": "anuduqzvyP1a"
      }
    },
    {
      "cell_type": "code",
      "source": [
        "df = pd.DataFrame(btc_data)\n",
        "df.dropna()\n",
        "print(\"Up to how many days ago would you like to see the price of bitcoin?\")\n",
        "specInterval = input(\"Days ago\\n\")\n",
        "print(\"Price of Bitcoin in the past {} days\" .format(specInterval))\n",
        "df.head(int(specInterval))\n",
        "minidf=df[:int(specInterval)]\n",
        "minidf.plot(\"Date\", \"Value\", kind = \"bar\")\n",
        "df.head(int(specInterval))"
      ],
      "metadata": {
        "id": "PPxkjz46Oe3n",
        "colab": {
          "base_uri": "https://localhost:8080/",
          "height": 903
        },
        "outputId": "e2386aac-5c31-4501-f818-9a1a4cb835da"
      },
      "execution_count": 68,
      "outputs": [
        {
          "output_type": "stream",
          "name": "stdout",
          "text": [
            "Up to how many days ago would you like to see the price of bitcoin?\n",
            "Days ago\n",
            "15\n",
            "Price of Bitcoin in the past 15 days\n"
          ]
        },
        {
          "output_type": "execute_result",
          "data": {
            "text/html": [
              "\n",
              "  <div id=\"df-c6f7f70f-af36-4367-bc46-fc7abb55b0c6\">\n",
              "    <div class=\"colab-df-container\">\n",
              "      <div>\n",
              "<style scoped>\n",
              "    .dataframe tbody tr th:only-of-type {\n",
              "        vertical-align: middle;\n",
              "    }\n",
              "\n",
              "    .dataframe tbody tr th {\n",
              "        vertical-align: top;\n",
              "    }\n",
              "\n",
              "    .dataframe thead th {\n",
              "        text-align: right;\n",
              "    }\n",
              "</style>\n",
              "<table border=\"1\" class=\"dataframe\">\n",
              "  <thead>\n",
              "    <tr style=\"text-align: right;\">\n",
              "      <th></th>\n",
              "      <th>Date</th>\n",
              "      <th>Value</th>\n",
              "    </tr>\n",
              "  </thead>\n",
              "  <tbody>\n",
              "    <tr>\n",
              "      <th>0</th>\n",
              "      <td>12/15/2021</td>\n",
              "      <td>48392.79</td>\n",
              "    </tr>\n",
              "    <tr>\n",
              "      <th>1</th>\n",
              "      <td>12/14/2021</td>\n",
              "      <td>46757.09</td>\n",
              "    </tr>\n",
              "    <tr>\n",
              "      <th>2</th>\n",
              "      <td>12/13/2021</td>\n",
              "      <td>50117.25</td>\n",
              "    </tr>\n",
              "    <tr>\n",
              "      <th>3</th>\n",
              "      <td>12/12/2021</td>\n",
              "      <td>49379.67</td>\n",
              "    </tr>\n",
              "    <tr>\n",
              "      <th>4</th>\n",
              "      <td>12/11/2021</td>\n",
              "      <td>47137.46</td>\n",
              "    </tr>\n",
              "    <tr>\n",
              "      <th>5</th>\n",
              "      <td>12/10/2021</td>\n",
              "      <td>47659.68</td>\n",
              "    </tr>\n",
              "    <tr>\n",
              "      <th>6</th>\n",
              "      <td>12/9/2021</td>\n",
              "      <td>50511.12</td>\n",
              "    </tr>\n",
              "    <tr>\n",
              "      <th>7</th>\n",
              "      <td>12/8/2021</td>\n",
              "      <td>50645.41</td>\n",
              "    </tr>\n",
              "    <tr>\n",
              "      <th>8</th>\n",
              "      <td>12/7/2021</td>\n",
              "      <td>50564.63</td>\n",
              "    </tr>\n",
              "    <tr>\n",
              "      <th>9</th>\n",
              "      <td>12/6/2021</td>\n",
              "      <td>49380.43</td>\n",
              "    </tr>\n",
              "    <tr>\n",
              "      <th>10</th>\n",
              "      <td>12/5/2021</td>\n",
              "      <td>49253.86</td>\n",
              "    </tr>\n",
              "    <tr>\n",
              "      <th>11</th>\n",
              "      <td>12/4/2021</td>\n",
              "      <td>53713.84</td>\n",
              "    </tr>\n",
              "    <tr>\n",
              "      <th>12</th>\n",
              "      <td>12/3/2021</td>\n",
              "      <td>56508.48</td>\n",
              "    </tr>\n",
              "    <tr>\n",
              "      <th>13</th>\n",
              "      <td>12/2/2021</td>\n",
              "      <td>57229.76</td>\n",
              "    </tr>\n",
              "    <tr>\n",
              "      <th>14</th>\n",
              "      <td>12/1/2021</td>\n",
              "      <td>57025.79</td>\n",
              "    </tr>\n",
              "  </tbody>\n",
              "</table>\n",
              "</div>\n",
              "      <button class=\"colab-df-convert\" onclick=\"convertToInteractive('df-c6f7f70f-af36-4367-bc46-fc7abb55b0c6')\"\n",
              "              title=\"Convert this dataframe to an interactive table.\"\n",
              "              style=\"display:none;\">\n",
              "        \n",
              "  <svg xmlns=\"http://www.w3.org/2000/svg\" height=\"24px\"viewBox=\"0 0 24 24\"\n",
              "       width=\"24px\">\n",
              "    <path d=\"M0 0h24v24H0V0z\" fill=\"none\"/>\n",
              "    <path d=\"M18.56 5.44l.94 2.06.94-2.06 2.06-.94-2.06-.94-.94-2.06-.94 2.06-2.06.94zm-11 1L8.5 8.5l.94-2.06 2.06-.94-2.06-.94L8.5 2.5l-.94 2.06-2.06.94zm10 10l.94 2.06.94-2.06 2.06-.94-2.06-.94-.94-2.06-.94 2.06-2.06.94z\"/><path d=\"M17.41 7.96l-1.37-1.37c-.4-.4-.92-.59-1.43-.59-.52 0-1.04.2-1.43.59L10.3 9.45l-7.72 7.72c-.78.78-.78 2.05 0 2.83L4 21.41c.39.39.9.59 1.41.59.51 0 1.02-.2 1.41-.59l7.78-7.78 2.81-2.81c.8-.78.8-2.07 0-2.86zM5.41 20L4 18.59l7.72-7.72 1.47 1.35L5.41 20z\"/>\n",
              "  </svg>\n",
              "      </button>\n",
              "      \n",
              "  <style>\n",
              "    .colab-df-container {\n",
              "      display:flex;\n",
              "      flex-wrap:wrap;\n",
              "      gap: 12px;\n",
              "    }\n",
              "\n",
              "    .colab-df-convert {\n",
              "      background-color: #E8F0FE;\n",
              "      border: none;\n",
              "      border-radius: 50%;\n",
              "      cursor: pointer;\n",
              "      display: none;\n",
              "      fill: #1967D2;\n",
              "      height: 32px;\n",
              "      padding: 0 0 0 0;\n",
              "      width: 32px;\n",
              "    }\n",
              "\n",
              "    .colab-df-convert:hover {\n",
              "      background-color: #E2EBFA;\n",
              "      box-shadow: 0px 1px 2px rgba(60, 64, 67, 0.3), 0px 1px 3px 1px rgba(60, 64, 67, 0.15);\n",
              "      fill: #174EA6;\n",
              "    }\n",
              "\n",
              "    [theme=dark] .colab-df-convert {\n",
              "      background-color: #3B4455;\n",
              "      fill: #D2E3FC;\n",
              "    }\n",
              "\n",
              "    [theme=dark] .colab-df-convert:hover {\n",
              "      background-color: #434B5C;\n",
              "      box-shadow: 0px 1px 3px 1px rgba(0, 0, 0, 0.15);\n",
              "      filter: drop-shadow(0px 1px 2px rgba(0, 0, 0, 0.3));\n",
              "      fill: #FFFFFF;\n",
              "    }\n",
              "  </style>\n",
              "\n",
              "      <script>\n",
              "        const buttonEl =\n",
              "          document.querySelector('#df-c6f7f70f-af36-4367-bc46-fc7abb55b0c6 button.colab-df-convert');\n",
              "        buttonEl.style.display =\n",
              "          google.colab.kernel.accessAllowed ? 'block' : 'none';\n",
              "\n",
              "        async function convertToInteractive(key) {\n",
              "          const element = document.querySelector('#df-c6f7f70f-af36-4367-bc46-fc7abb55b0c6');\n",
              "          const dataTable =\n",
              "            await google.colab.kernel.invokeFunction('convertToInteractive',\n",
              "                                                     [key], {});\n",
              "          if (!dataTable) return;\n",
              "\n",
              "          const docLinkHtml = 'Like what you see? Visit the ' +\n",
              "            '<a target=\"_blank\" href=https://colab.research.google.com/notebooks/data_table.ipynb>data table notebook</a>'\n",
              "            + ' to learn more about interactive tables.';\n",
              "          element.innerHTML = '';\n",
              "          dataTable['output_type'] = 'display_data';\n",
              "          await google.colab.output.renderOutput(dataTable, element);\n",
              "          const docLink = document.createElement('div');\n",
              "          docLink.innerHTML = docLinkHtml;\n",
              "          element.appendChild(docLink);\n",
              "        }\n",
              "      </script>\n",
              "    </div>\n",
              "  </div>\n",
              "  "
            ],
            "text/plain": [
              "          Date     Value\n",
              "0   12/15/2021  48392.79\n",
              "1   12/14/2021  46757.09\n",
              "2   12/13/2021  50117.25\n",
              "3   12/12/2021  49379.67\n",
              "4   12/11/2021  47137.46\n",
              "5   12/10/2021  47659.68\n",
              "6    12/9/2021  50511.12\n",
              "7    12/8/2021  50645.41\n",
              "8    12/7/2021  50564.63\n",
              "9    12/6/2021  49380.43\n",
              "10   12/5/2021  49253.86\n",
              "11   12/4/2021  53713.84\n",
              "12   12/3/2021  56508.48\n",
              "13   12/2/2021  57229.76\n",
              "14   12/1/2021  57025.79"
            ]
          },
          "metadata": {},
          "execution_count": 68
        },
        {
          "output_type": "display_data",
          "data": {
            "image/png": "[encoded data removed]",
            "text/plain": [
              "<Figure size 432x288 with 1 Axes>"
            ]
          },
          "metadata": {
            "needs_background": "light"
          }
        }
      ]
    },
    {
      "cell_type": "markdown",
      "source": [
        "A way to see the significant values of bitcoin"
      ],
      "metadata": {
        "id": "xBbrMybA7954"
      }
    },
    {
      "cell_type": "code",
      "source": [
        "print(\"Would you like to see the average, median, max, and lowest price of bitcoin\")\n",
        "response = input(\"Yes or No\\n\")\n",
        "if response == \"Yes\":\n",
        "    maxVal = df.loc[0:int(specInterval) -1].max()\n",
        "    print(\"Maximum Value in the past {} days occured on\" .format(specInterval))\n",
        "    print(maxVal)\n",
        "    print(\"\\n\")\n",
        "    minVal = df.loc[0:int(specInterval) -1].min()\n",
        "    print(\"Minimum Value in the past {} days occured on\" .format(specInterval))\n",
        "    print(minVal)\n",
        "    print(\"\\n\")\n",
        "    meanVal = df.loc[0:int(specInterval) -1].mean()\n",
        "    print(\"Average Value in the past {} days\" .format(specInterval))\n",
        "    print(meanVal)\n",
        "    print(\"\\n\")\n",
        "    medianVal = df.loc[0:int(specInterval) -1].median()\n",
        "    print(\"Median Value in the past {} days\" .format(specInterval))\n",
        "    print(medianVal)\n",
        "    print(\"\\n\")\n",
        "    stdVal = df.loc[0:int(specInterval) -1].std()\n",
        "    print(\"Standard Deviation in the past {} days\" .format(specInterval))\n",
        "    print(stdVal)\n",
        "    print(\"\\n\")\n",
        "else:\n",
        "    print(\"Ok, if you change your mind, run this program again!\")\n",
        "\n",
        "print(\"Is there any specific day you are looking for? Enter in mm/day/year\")\n",
        "specDate = input(\"Date\\n\")\n",
        "print(df.loc[df[\"Date\"] == specDate])"
      ],
      "metadata": {
        "colab": {
          "base_uri": "https://localhost:8080/"
        },
        "id": "ooNDAorY8BQX",
        "outputId": "d24634d0-ea4b-4672-e8ba-134141d05144"
      },
      "execution_count": 83,
      "outputs": [
        {
          "output_type": "stream",
          "name": "stdout",
          "text": [
            "Would you like to see the average, median, max, and lowest price of bitcoin\n",
            "Yes or No\n",
            "Yes\n",
            "Maximum Value in the past 15 days occured on\n",
            "Date     12/9/2021\n",
            "Value      57229.8\n",
            "dtype: object\n",
            "\n",
            "\n",
            "Minimum Value in the past 15 days occured on\n",
            "Date     12/1/2021\n",
            "Value      46757.1\n",
            "dtype: object\n",
            "\n",
            "\n",
            "Average Value in the past 15 days\n",
            "Value    50951.817333\n",
            "dtype: float64\n",
            "\n",
            "\n",
            "Median Value in the past 15 days\n",
            "Value    50117.25\n",
            "dtype: float64\n",
            "\n",
            "\n",
            "Standard Deviation in the past 15 days\n",
            "Value    3518.332665\n",
            "dtype: float64\n",
            "\n",
            "\n",
            "Is there any specific day you are looking for? Enter in mm/day/year\n",
            "Date\n",
            "12/1/2021\n",
            "         Date     Value\n",
            "14  12/1/2021  57025.79\n"
          ]
        }
      ]
    }
  ]
}